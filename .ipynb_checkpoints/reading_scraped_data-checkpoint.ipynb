{
 "cells": [
  {
   "cell_type": "markdown",
   "metadata": {
    "toc-hr-collapsed": false
   },
   "source": [
    "# Scraping Analysis"
   ]
  },
  {
   "cell_type": "code",
   "execution_count": 58,
   "metadata": {},
   "outputs": [],
   "source": [
    "# Imports\n",
    "import math\n",
    "import numpy as np\n",
    "import pandas as pd\n",
    "import geopy.distance"
   ]
  },
  {
   "cell_type": "markdown",
   "metadata": {},
   "source": [
    "### Read Data"
   ]
  },
  {
   "cell_type": "code",
   "execution_count": 59,
   "metadata": {},
   "outputs": [
    {
     "name": "stderr",
     "output_type": "stream",
     "text": [
      "/home/michael/anaconda3/envs/airbnb_analysis/lib/python3.7/site-packages/IPython/core/interactiveshell.py:3058: DtypeWarning: Columns (3,5,7,8) have mixed types. Specify dtype option on import or set low_memory=False.\n",
      "  interactivity=interactivity, compiler=compiler, result=result)\n"
     ]
    }
   ],
   "source": [
    "scraped_zip_data = pd.read_pickle(\n",
    "    '../housing_data/data/final_database_frames/zip_v1.pkl')\n",
    "scraped_city_data = pd.read_pickle(\n",
    "    '../housing_data/data/final_database_frames/city_v3.pkl')\n",
    "\n",
    "\n",
    "def prep_city_data(scraped_city_data):\n",
    "    scraped_city_data.columns = [\n",
    "        i + '_city' if i != 'state_city' else i\n",
    "        for i in scraped_city_data.columns.values\n",
    "    ]\n",
    "    return scraped_city_data\n",
    "\n",
    "\n",
    "scraped_city_data = prep_city_data(scraped_city_data)\n",
    "\n",
    "location_data = pd.read_csv(\n",
    "    '../housing_data/data/geographic_data/zip_code_database_cleaned.csv',\n",
    "    converters={'zip': lambda x: str(x)})\n",
    "\n",
    "\n",
    "def get_location_data(location_data):\n",
    "    # read data\n",
    "    location_data = location_data.loc[:, [\n",
    "        'state_city_zip', 'latitude', 'longitude', 'state', 'zip',\n",
    "        'primary_city'\n",
    "    ]]\n",
    "\n",
    "    return location_data\n",
    "\n",
    "\n",
    "location_data = get_location_data(location_data)\n",
    "\n",
    "hotel_data = pd.read_csv(\n",
    "    '../housing_data/2012_census_hotel_accomodation/ECN_2012_US_72Z1_with_ann.csv',\n",
    "    converters={'GEO.id2': lambda x: str(x)},\n",
    "    header=0)\n",
    "\n",
    "\n",
    "def prep_hotel_data(hotel_data):\n",
    "    # filter for all establishments\n",
    "    hotel_data = hotel_data.iloc[1:, :]\n",
    "    hotel_data = hotel_data[hotel_data['RCPSZFE.display-label'] ==\n",
    "                            'All establishments']\n",
    "    hotel_data = hotel_data.drop_duplicates(\n",
    "        ['GEO.id2', 'NAICS.display-label', 'ESTAB'], keep='last')\n",
    "    hotel_data = hotel_data.pivot(index='GEO.id2',\n",
    "                                  columns='NAICS.display-label',\n",
    "                                  values='ESTAB')\n",
    "    hotel_data = hotel_data[[\n",
    "        'Accommodation', 'Bed-and-breakfast inns', 'Casino hotels',\n",
    "        'Hotels (except casino hotels) and motels', 'Traveler accommodation',\n",
    "        'Recreational and vacation camps (except campgrounds)'\n",
    "    ]]\n",
    "    return hotel_data\n",
    "\n",
    "\n",
    "hotel_data = prep_hotel_data(hotel_data)\n",
    "\n",
    "# read zillow data\n",
    "zillow = pd.read_pickle(\n",
    "    '../housing_data/data/zillow/prepped_zillow_data/zillow_19-06.pkl')\n"
   ]
  },
  {
   "cell_type": "markdown",
   "metadata": {},
   "source": [
    "### Merging locations and zillow"
   ]
  },
  {
   "cell_type": "code",
   "execution_count": 60,
   "metadata": {},
   "outputs": [],
   "source": [
    "scraped_data_locations = scraped_zip_data.merge(location_data,\n",
    "                                                on='state_city_zip',\n",
    "                                                how='left')\n",
    "\n",
    "scraped_data_locations_zillow = scraped_data_locations.merge(\n",
    "    zillow, on='state_city_zip', how='left')\n",
    "\n",
    "df = scraped_data_locations_zillow.merge(hotel_data,\n",
    "                                         left_on='zip',\n",
    "                                         right_on='GEO.id2',\n",
    "                                         how='left')\n"
   ]
  },
  {
   "cell_type": "markdown",
   "metadata": {},
   "source": [
    "### Extrapolating columns"
   ]
  },
  {
   "cell_type": "code",
   "execution_count": 61,
   "metadata": {},
   "outputs": [
    {
     "name": "stderr",
     "output_type": "stream",
     "text": [
      "/home/michael/anaconda3/envs/airbnb_analysis/lib/python3.7/site-packages/ipykernel_launcher.py:21: DeprecationWarning: Vincenty is deprecated and is going to be removed in geopy 2.0. Use `geopy.distance.geodesic` (or the default `geopy.distance.distance`) instead, which is more accurate and always converges.\n"
     ]
    }
   ],
   "source": [
    "def get_history_extrapolations(my_history):\n",
    "    avg = []\n",
    "    cv = []\n",
    "    \n",
    "    for i in my_history:\n",
    "        if type(i) is list:\n",
    "            if len(i) > 0:\n",
    "                avg.append(np.average(i))\n",
    "                cv.append(np.std(i) / np.average(i))\n",
    "            else:\n",
    "                avg.append(np.nan)\n",
    "                cv.append(np.nan)\n",
    "        else:\n",
    "            avg.append(np.nan)\n",
    "            cv.append(np.nan)\n",
    "    return avg, cv\n",
    "\n",
    "def get_distance_from_nyc(long_lat_row):\n",
    "    new_york_coords = (40.812522, -73.951924)\n",
    "    place = (long_lat_row[1],long_lat_row[0])\n",
    "    distance = geopy.distance.vincenty(place, new_york_coords).mi\n",
    "    return distance\n",
    "\n",
    "\n",
    "def add_extrapolated_revenue(df, for_city=''):\n",
    "    # now that info is finalized add the extrapolated revenue data\n",
    "    svg_columns = ['monthly_revenue'+for_city, 'nightly_revenue'+for_city, 'monthly_occupancy'+for_city]\n",
    "    for col_name in svg_columns:\n",
    "        # average of lists of history of svg\n",
    "        avg, cv = get_history_extrapolations(df[col_name])\n",
    "        df['avg_' + col_name] = avg\n",
    "        # seasonality measure\n",
    "        df['seasonality_' + col_name] = cv\n",
    "\n",
    "    # the multiply by 0.3 comes from 30 days / 100 for occupancy to become a percent between 0-1\n",
    "    df['expected_avg_monthly_revenue'+for_city] = (df['avg_nightly_revenue'+for_city].mul(\n",
    "        df['avg_monthly_occupancy'+for_city])).apply(lambda x: x * .3)\n",
    "\n",
    "    # divide revenue by rooms and guests to get average per room and per guest\n",
    "    df['revenue_per_room'+for_city] = df['avg_monthly_revenue'+for_city].divide(df['rooms'+for_city])\n",
    "\n",
    "    df['expected_revenue_per_room'+for_city] = df['expected_avg_monthly_revenue'+for_city].divide(\n",
    "        df['rooms'+for_city])\n",
    "\n",
    "    df['expected_revenue_per_guest'+for_city] = df[\n",
    "        'expected_avg_monthly_revenue'+for_city].divide(df['guests'+for_city])\n",
    "        \n",
    "    return df\n",
    "\n",
    "\n",
    "df = add_extrapolated_revenue(df)\n",
    "# add distance to zip data\n",
    "df['distance_from_Eli'] = df[['longitude','latitude']].apply(get_distance_from_nyc, axis=1)\n",
    "\n",
    "scraped_city_data = add_extrapolated_revenue(scraped_city_data, '_city')"
   ]
  },
  {
   "cell_type": "markdown",
   "metadata": {},
   "source": [
    "### Add city data to zip data"
   ]
  },
  {
   "cell_type": "code",
   "execution_count": 62,
   "metadata": {},
   "outputs": [],
   "source": [
    "df['state_city'] = df.state_city_zip.str.extract('(.*)\\/\\d+')\n",
    "df = df.merge(scraped_city_data, on='state_city',how='left')"
   ]
  },
  {
   "cell_type": "markdown",
   "metadata": {},
   "source": [
    "### Add real estate extrapolations to zip data"
   ]
  },
  {
   "cell_type": "code",
   "execution_count": 63,
   "metadata": {},
   "outputs": [],
   "source": [
    "def add_real_estate_extrapolations(df):\n",
    "    df['rent_to_rent'] = df.revenue_per_room.divide(\n",
    "        df['ZriPerSqft_AllHomes2019-06'].apply(lambda x: x * 1000))\n",
    "    df['rent_to_rent_expected'] = df.expected_revenue_per_room.divide(\n",
    "        df['ZriPerSqft_AllHomes2019-06'].apply(lambda x: x * 1000))\n",
    "    return df\n",
    "\n",
    "df = add_real_estate_extrapolations(df)\n",
    "    "
   ]
  },
  {
   "cell_type": "markdown",
   "metadata": {},
   "source": [
    "### Write for widgets and downloads"
   ]
  },
  {
   "cell_type": "code",
   "execution_count": 64,
   "metadata": {},
   "outputs": [],
   "source": [
    "# simple function to determin in cell is nan\n",
    "def isNaN(num):\n",
    "    return num != num\n",
    "\n",
    "\n",
    "# filtered df for qgrid\n",
    "filtered_df = df[[True if not isNaN(i) else False for i in df.city]]\n",
    "\n",
    "# choose to filter with zillow or not\n",
    "#filtered_df = df[[i < 15772 for i in df.SizeRank.values]]\n",
    "\n",
    "# subset from df to use as qgrid frame\n",
    "my_qgrid = filtered_df[[\n",
    "    'zip', 'primary_city', 'state', 'current_active_listings','rooms',\n",
    "    'current_active_listings_city', 'expected_avg_monthly_revenue',\n",
    "    'avg_monthly_revenue','seasonality_monthly_revenue', 'rent_to_rent',\n",
    "    'rent_to_rent_expected', 'distance_from_Eli','MedianRentalPrice_AllHomes2019-06',\n",
    "    'ZriPerSqft_AllHomes2019-06', 'SizeRank', 'Hotels (except casino hotels) and motels'\n",
    "]]\n",
    "\n",
    "my_qgrid.to_excel('../process/data/df.xlsx', index=True)\n",
    "my_qgrid.to_pickle('../process/data/df.pkl')\n"
   ]
  },
  {
   "cell_type": "code",
   "execution_count": null,
   "metadata": {},
   "outputs": [],
   "source": []
  }
 ],
 "metadata": {
  "file_extension": ".py",
  "kernelspec": {
   "display_name": "Python 3",
   "language": "python",
   "name": "python3"
  },
  "language_info": {
   "codemirror_mode": {
    "name": "ipython",
    "version": 3
   },
   "file_extension": ".py",
   "mimetype": "text/x-python",
   "name": "python",
   "nbconvert_exporter": "python",
   "pygments_lexer": "ipython3",
   "version": "3.7.4"
  },
  "mimetype": "text/x-python",
  "name": "python",
  "npconvert_exporter": "python",
  "pygments_lexer": "ipython3",
  "toc": {
   "base_numbering": 1,
   "nav_menu": {},
   "number_sections": false,
   "sideBar": false,
   "skip_h1_title": false,
   "title_cell": "Table of Contents",
   "title_sidebar": "Contents",
   "toc_cell": false,
   "toc_position": {},
   "toc_section_display": false,
   "toc_window_display": false
  },
  "toc-autonumbering": false,
  "toc-showcode": false,
  "toc-showtags": false,
  "varInspector": {
   "cols": {
    "lenName": 16,
    "lenType": 16,
    "lenVar": 40
   },
   "kernels_config": {
    "python": {
     "delete_cmd_postfix": "",
     "delete_cmd_prefix": "del ",
     "library": "var_list.py",
     "varRefreshCmd": "print(var_dic_list())"
    },
    "r": {
     "delete_cmd_postfix": ") ",
     "delete_cmd_prefix": "rm(",
     "library": "var_list.r",
     "varRefreshCmd": "cat(var_dic_list()) "
    }
   },
   "oldHeight": 122,
   "position": {
    "height": "40px",
    "left": "1580px",
    "right": "20px",
    "top": "120px",
    "width": "250px"
   },
   "types_to_exclude": [
    "module",
    "function",
    "builtin_function_or_method",
    "instance",
    "_Feature"
   ],
   "varInspector_section_display": "none",
   "window_display": true
  },
  "version": 3
 },
 "nbformat": 4,
 "nbformat_minor": 4
}
