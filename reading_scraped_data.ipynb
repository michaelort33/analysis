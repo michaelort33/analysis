{
 "cells": [
  {
   "cell_type": "markdown",
   "metadata": {
    "toc-hr-collapsed": false
   },
   "source": [
    "# Scraping Analysis"
   ]
  },
  {
   "cell_type": "code",
   "execution_count": 2,
   "metadata": {},
   "outputs": [],
   "source": [
    "# Imports\n",
    "import gmaps\n",
    "import math\n",
    "import numpy as np\n",
    "import pandas as pd\n",
    "import qgrid\n",
    "import ipywidgets as widgets\n",
    "from IPython.display import display"
   ]
  },
  {
   "cell_type": "markdown",
   "metadata": {},
   "source": [
    "### Read Data"
   ]
  },
  {
   "cell_type": "code",
   "execution_count": 23,
   "metadata": {},
   "outputs": [
    {
     "name": "stderr",
     "output_type": "stream",
     "text": [
      "/home/michael/anaconda3/envs/airbnb_analysis/lib/python3.7/site-packages/IPython/core/interactiveshell.py:3058: DtypeWarning: Columns (1,3,5,7,8) have mixed types. Specify dtype option on import or set low_memory=False.\n",
      "  interactivity=interactivity, compiler=compiler, result=result)\n"
     ]
    }
   ],
   "source": [
    "scraped_zip_data = pd.read_pickle('../housing_data/data/final_database_frames/zip_a_v1.pkl')\n",
    "scraped_city_data = pd.read_pickle('../housing_data/data/final_database_frames/city_v4.pkl')\n",
    "\n",
    "\n",
    "def get_location_data():\n",
    "    location_data = pd.read_csv(\n",
    "        '../housing_data/data/geographic_data/zip_code_database_cleaned.csv',\n",
    "        converters={'zip': lambda x: str(x)})\n",
    "    \n",
    "    # read data\n",
    "    location_data = location_data.loc[:, [\n",
    "        'state_city_zip', 'latitude', 'longitude', 'state', 'zip',\n",
    "        'primary_city'\n",
    "    ]]\n",
    "\n",
    "    return location_data\n",
    "\n",
    "\n",
    "location_data = get_location_data()\n",
    "\n",
    "hotel_data = pd.read_csv('../housing_data/2012_census_hotel_accomodation/ECN_2012_US_72Z1_with_ann.csv')\n",
    "\n",
    "# read zillow data\n",
    "zillow = pd.read_pickle('../housing_data/data/final_database_frames/zillow_19-06.pkl')"
   ]
  },
  {
   "cell_type": "markdown",
   "metadata": {},
   "source": [
    "### Merging locations and zillow"
   ]
  },
  {
   "cell_type": "code",
   "execution_count": 15,
   "metadata": {},
   "outputs": [],
   "source": [
    "scraped_data_locations = scraped_data.merge(location_data,\n",
    "                                            on='state_city_zip',\n",
    "                                            how='left')\n",
    "\n",
    "df = scraped_data_locations.merge(zillow, on='state_city_zip', how='left')"
   ]
  },
  {
   "cell_type": "markdown",
   "metadata": {},
   "source": [
    "### Extrapolating columns"
   ]
  },
  {
   "cell_type": "code",
   "execution_count": 16,
   "metadata": {},
   "outputs": [],
   "source": [
    "def get_history_extrapolations(my_history):\n",
    "    avg = []\n",
    "    cv = []\n",
    "    for i in my_history:\n",
    "        if type(i) is list:\n",
    "            if len(i) > 0:\n",
    "                avg.append(np.average(i))\n",
    "                cv.append(np.std(i) / np.average(i))\n",
    "            else:\n",
    "                avg.append(np.nan)\n",
    "                cv.append(np.nan)\n",
    "        else:\n",
    "            avg.append(np.nan)\n",
    "            cv.append(np.nan)\n",
    "    return avg, cv\n",
    "\n",
    "\n",
    "def add_extrapolated_revenue(df):\n",
    "    # now that info is finalized add the extrapolated revenue data\n",
    "    svg_columns = ['monthly_revenue', 'nightly_revenue', 'monthly_occupancy']\n",
    "    for col_name in svg_columns:\n",
    "        # average of lists of history of svg\n",
    "        avg, cv = get_history_extrapolations(df[col_name])\n",
    "        df['avg_' + col_name] = avg\n",
    "        # seasonality measure\n",
    "        df['seasonality_' + col_name] = cv\n",
    "\n",
    "    # the multiply by 0.3 comes from 30 days / 100 for occupancy to become a percent between 0-1\n",
    "    df['expected_avg_monthly_revenue'] = (df['avg_nightly_revenue'].mul(\n",
    "        df['avg_monthly_occupancy'])).apply(lambda x: x * .3)\n",
    "\n",
    "    # divide revenue by rooms and guests to get average per room and per guest\n",
    "    df['revenue_per_room'] = df['avg_monthly_revenue'].divide(df['rooms'])\n",
    "\n",
    "    df['expected_revenue_per_room'] = df[\n",
    "        'expected_avg_monthly_revenue'].divide(df['rooms'])\n",
    "\n",
    "    df['expected_revenue_per_guest'] = df[\n",
    "        'expected_avg_monthly_revenue'].divide(df['guests'])\n",
    "\n",
    "    df['rent_to_rent'] = df.revenue_per_room.divide(\n",
    "        df['ZriPerSqft_AllHomes2019-06'].apply(lambda x: x * 1000))\n",
    "    df['rent_to_rent_expected'] = df.expected_revenue_per_room.divide(\n",
    "        df['ZriPerSqft_AllHomes2019-06'].apply(lambda x: x * 1000))\n",
    "\n",
    "    return df\n",
    "\n",
    "\n",
    "df = add_extrapolated_revenue(df)"
   ]
  },
  {
   "cell_type": "markdown",
   "metadata": {},
   "source": [
    "### Write for widgets and downloads"
   ]
  },
  {
   "cell_type": "code",
   "execution_count": 36,
   "metadata": {},
   "outputs": [],
   "source": [
    "# simple function to determin in cell is nan\n",
    "def isNaN(num):\n",
    "    return num != num\n",
    "\n",
    "\n",
    "# filtered df for qgrid\n",
    "filtered_df = df[[True if not isNaN(i) else False for i in df.city]]\n",
    "\n",
    "filtered_df = df[[i<15772 for i in df.SizeRank.values]]\n",
    "\n",
    "# subset from df to use as qgrid frame\n",
    "my_qgrid = filtered_df[[\n",
    "    'zip', 'primary_city', 'state', 'current_active_listings',\n",
    "    'expected_avg_monthly_revenue', 'avg_monthly_revenue',\n",
    "    'avg_nightly_revenue', 'avg_monthly_occupancy', 'revenue_per_room',\n",
    "    'expected_revenue_per_room', 'seasonality_monthly_revenue', 'rooms',\n",
    "    'rent_to_rent', 'rent_to_rent_expected',\n",
    "    'MedianRentalPricePerSqft_3Bedroom2019-06',\n",
    "    'MedianRentalPricePerSqft_2Bedroom2019-06',\n",
    "    'MedianRentalPricePerSqft_1Bedroom2019-06',\n",
    "    'MedianRentalPricePerSqft_Studio2019-06',\n",
    "    'MedianRentalPricePerSqft_Sfr2019-06', 'MedianRentalPrice_AllHomes2019-06',\n",
    "    'ZriPerSqft_AllHomes2019-06','SizeRank','YoY'\n",
    "]]\n",
    "\n",
    "\n",
    "my_qgrid.to_excel('../process/data/df.xlsx', index=True)\n",
    "my_qgrid.to_pickle('../process/data/df.pkl')"
   ]
  },
  {
   "cell_type": "code",
   "execution_count": null,
   "metadata": {},
   "outputs": [],
   "source": []
  }
 ],
 "metadata": {
  "file_extension": ".py",
  "kernelspec": {
   "display_name": "Python 3",
   "language": "python",
   "name": "python3"
  },
  "language_info": {
   "codemirror_mode": {
    "name": "ipython",
    "version": 3
   },
   "file_extension": ".py",
   "mimetype": "text/x-python",
   "name": "python",
   "nbconvert_exporter": "python",
   "pygments_lexer": "ipython3",
   "version": "3.7.4"
  },
  "mimetype": "text/x-python",
  "name": "python",
  "npconvert_exporter": "python",
  "pygments_lexer": "ipython3",
  "toc": {
   "base_numbering": 1,
   "nav_menu": {},
   "number_sections": false,
   "sideBar": false,
   "skip_h1_title": false,
   "title_cell": "Table of Contents",
   "title_sidebar": "Contents",
   "toc_cell": false,
   "toc_position": {},
   "toc_section_display": false,
   "toc_window_display": false
  },
  "toc-autonumbering": false,
  "toc-showcode": false,
  "toc-showtags": false,
  "varInspector": {
   "cols": {
    "lenName": 16,
    "lenType": 16,
    "lenVar": 40
   },
   "kernels_config": {
    "python": {
     "delete_cmd_postfix": "",
     "delete_cmd_prefix": "del ",
     "library": "var_list.py",
     "varRefreshCmd": "print(var_dic_list())"
    },
    "r": {
     "delete_cmd_postfix": ") ",
     "delete_cmd_prefix": "rm(",
     "library": "var_list.r",
     "varRefreshCmd": "cat(var_dic_list()) "
    }
   },
   "oldHeight": 122,
   "position": {
    "height": "40px",
    "left": "1580px",
    "right": "20px",
    "top": "120px",
    "width": "250px"
   },
   "types_to_exclude": [
    "module",
    "function",
    "builtin_function_or_method",
    "instance",
    "_Feature"
   ],
   "varInspector_section_display": "none",
   "window_display": true
  },
  "version": 3
 },
 "nbformat": 4,
 "nbformat_minor": 4
}
